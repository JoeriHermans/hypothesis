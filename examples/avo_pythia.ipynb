{
 "cells": [
  {
   "cell_type": "markdown",
   "metadata": {},
   "source": [
    "# Adversarial Variational Optimization: Pythia benchmark"
   ]
  },
  {
   "cell_type": "code",
   "execution_count": 1,
   "metadata": {},
   "outputs": [],
   "source": [
    "import torch\n",
    "import hypothesis\n",
    "import matplotlib.pyplot as plt"
   ]
  },
  {
   "cell_type": "code",
   "execution_count": 2,
   "metadata": {},
   "outputs": [
    {
     "name": "stderr",
     "output_type": "stream",
     "text": [
      "/home/joeri/Anaconda/lib/python3.6/site-packages/pythiamill/mill.py:70: UserWarning: `seed` argument is not specified and Pythia options does not contain `Random:seed` options. This may result in duplicating samples.\n",
      "  warnings.warn('`seed` argument is not specified and Pythia options does not contain `Random:seed` options. '\n"
     ]
    }
   ],
   "source": [
    "from hypothesis.benchmark.pythia import allocate_observations\n",
    "\n",
    "theta_true = .5\n",
    "resolution = 32\n",
    "theta_true, observations = allocate_observations(theta_true, resolution=resolution)"
   ]
  },
  {
   "cell_type": "code",
   "execution_count": 3,
   "metadata": {},
   "outputs": [
    {
     "data": {
      "image/png": "[encoded data removed]",
      "text/plain": [
       "<Figure size 432x288 with 1 Axes>"
      ]
     },
     "metadata": {},
     "output_type": "display_data"
    }
   ],
   "source": [
    "plt.imshow(observations.mean(dim=0).numpy())\n",
    "plt.show()"
   ]
  },
  {
   "cell_type": "markdown",
   "metadata": {},
   "source": [
    "## AVO\n",
    "\n",
    "### Discriminator"
   ]
  },
  {
   "cell_type": "code",
   "execution_count": 4,
   "metadata": {},
   "outputs": [],
   "source": [
    "class Discriminator(torch.nn.Module):\n",
    "    \n",
    "    def __init__(self):\n",
    "        super(Discriminator, self).__init__()\n",
    "        num_hidden = 300\n",
    "        self.network = torch.nn.Sequential(\n",
    "            torch.nn.Linear(resolution ** 2, num_hidden),\n",
    "            torch.nn.PReLU(),\n",
    "            torch.nn.Linear(num_hidden, num_hidden),\n",
    "            torch.nn.PReLU(),\n",
    "            torch.nn.Linear(num_hidden, num_hidden),\n",
    "            torch.nn.PReLU(),\n",
    "            torch.nn.Linear(num_hidden, num_hidden),\n",
    "            torch.nn.PReLU(),\n",
    "            torch.nn.Linear(num_hidden, num_hidden),\n",
    "            torch.nn.PReLU(),\n",
    "            torch.nn.Linear(num_hidden, num_hidden),\n",
    "            torch.nn.PReLU(),\n",
    "            torch.nn.Linear(num_hidden, num_hidden),\n",
    "            torch.nn.PReLU(),\n",
    "            torch.nn.Linear(num_hidden, num_hidden),\n",
    "            torch.nn.PReLU(),\n",
    "            torch.nn.Linear(num_hidden, num_hidden),\n",
    "            torch.nn.PReLU(),\n",
    "            torch.nn.Linear(num_hidden, 1),\n",
    "            torch.nn.Sigmoid())\n",
    "        \n",
    "    def forward(self, x):\n",
    "        x = x.view(-1, resolution ** 2)\n",
    "        y = self.network(x)\n",
    "        \n",
    "        return y"
   ]
  },
  {
   "cell_type": "code",
   "execution_count": 5,
   "metadata": {},
   "outputs": [],
   "source": [
    "def allocate_discriminator():\n",
    "    return Discriminator()"
   ]
  },
  {
   "cell_type": "markdown",
   "metadata": {},
   "source": [
    "### Simulator"
   ]
  },
  {
   "cell_type": "code",
   "execution_count": 6,
   "metadata": {},
   "outputs": [
    {
     "name": "stderr",
     "output_type": "stream",
     "text": [
      "/home/joeri/Anaconda/lib/python3.6/site-packages/pythiamill/mill.py:70: UserWarning: `seed` argument is not specified and Pythia options does not contain `Random:seed` options. This may result in duplicating samples.\n",
      "  warnings.warn('`seed` argument is not specified and Pythia options does not contain `Random:seed` options. '\n"
     ]
    }
   ],
   "source": [
    "from hypothesis.benchmark.pythia import PythiaDetectorOffsetSimulator as Simulator\n",
    "\n",
    "simulator = Simulator(resolution=resolution)"
   ]
  },
  {
   "cell_type": "markdown",
   "metadata": {},
   "source": [
    "### Proposal"
   ]
  },
  {
   "cell_type": "code",
   "execution_count": 7,
   "metadata": {},
   "outputs": [],
   "source": [
    "from hypothesis.proposal import NormalProposal\n",
    "\n",
    "proposal = NormalProposal()"
   ]
  },
  {
   "cell_type": "markdown",
   "metadata": {},
   "source": [
    "### Inference"
   ]
  },
  {
   "cell_type": "code",
   "execution_count": 8,
   "metadata": {},
   "outputs": [],
   "source": [
    "from hypothesis.inference import AdversarialVariationalOptimization\n",
    "\n",
    "batch_size = 64\n",
    "avo = AdversarialVariationalOptimization(simulator, allocate_discriminator(), proposal, batch_size=batch_size)"
   ]
  },
  {
   "cell_type": "code",
   "execution_count": 9,
   "metadata": {},
   "outputs": [],
   "source": [
    "proposal = avo.infer(observations, steps=10000)"
   ]
  },
  {
   "cell_type": "code",
   "execution_count": 10,
   "metadata": {},
   "outputs": [
    {
     "name": "stderr",
     "output_type": "stream",
     "text": [
      "/home/joeri/Anaconda/lib/python3.6/site-packages/ipykernel_launcher.py:9: MatplotlibDeprecationWarning: scipy.stats.norm.pdf\n",
      "  if __name__ == '__main__':\n"
     ]
    },
    {
     "data": {
      "image/png": "[encoded data removed]",
      "text/plain": [
       "<Figure size 432x288 with 1 Axes>"
      ]
     },
     "metadata": {},
     "output_type": "display_data"
    }
   ],
   "source": [
    "import matplotlib.mlab as mlab\n",
    "import numpy as np\n",
    "\n",
    "mean = proposal._mu.item()\n",
    "sigma = proposal._sigma.item()\n",
    "true = theta_true.item()\n",
    "x = np.linspace(mean - 15 * sigma, mean + 15 * sigma + 1.5, 5000)\n",
    "plt.axvline(true, linestyle=\"--\", c=\"lightgray\", label=r\"${\\theta^*}$\")\n",
    "plt.plot(x, mlab.normpdf(x, mean, sigma), label=r\"$q({\\theta}|{\\psi})\\ \\gamma = 0$\")\n",
    "plt.xlim([np.min(x), np.max(x)])\n",
    "plt.grid(False)\n",
    "plt.legend()\n",
    "plt.show()"
   ]
  },
  {
   "cell_type": "markdown",
   "metadata": {},
   "source": [
    "## AVO Ensembles"
   ]
  },
  {
   "cell_type": "code",
   "execution_count": 11,
   "metadata": {},
   "outputs": [
    {
     "name": "stdout",
     "output_type": "stream",
     "text": [
      "Executing run 1\n"
     ]
    },
    {
     "name": "stderr",
     "output_type": "stream",
     "text": [
      "/home/joeri/Anaconda/lib/python3.6/site-packages/pythiamill/mill.py:70: UserWarning: `seed` argument is not specified and Pythia options does not contain `Random:seed` options. This may result in duplicating samples.\n",
      "  warnings.warn('`seed` argument is not specified and Pythia options does not contain `Random:seed` options. '\n"
     ]
    },
    {
     "name": "stdout",
     "output_type": "stream",
     "text": [
      "Executing run 2\n",
      "Executing run 3\n",
      "Executing run 4\n",
      "Executing run 5\n",
      "Executing run 6\n",
      "Executing run 7\n",
      "Executing run 8\n",
      "Executing run 9\n",
      "Executing run 10\n",
      "Executing run 11\n",
      "Executing run 12\n",
      "Executing run 13\n",
      "Executing run 14\n",
      "Executing run 15\n"
     ]
    }
   ],
   "source": [
    "num_runs = 15\n",
    "results = []\n",
    "\n",
    "for run in range(num_runs):\n",
    "    print(\"Executing run\", (run + 1))\n",
    "    proposal = NormalProposal()\n",
    "    simulator = Simulator(resolution=resolution)\n",
    "    avo = AdversarialVariationalOptimization(simulator, allocate_discriminator(), proposal, batch_size=batch_size)\n",
    "    results.append(avo.infer(observations, steps=10000))"
   ]
  },
  {
   "cell_type": "code",
   "execution_count": 12,
   "metadata": {},
   "outputs": [
    {
     "name": "stderr",
     "output_type": "stream",
     "text": [
      "/home/joeri/Anaconda/lib/python3.6/site-packages/ipykernel_launcher.py:17: MatplotlibDeprecationWarning: scipy.stats.norm.pdf\n"
     ]
    },
    {
     "data": {
      "image/png": "[encoded data removed]",
      "text/plain": [
       "<Figure size 432x288 with 1 Axes>"
      ]
     },
     "metadata": {},
     "output_type": "display_data"
    }
   ],
   "source": [
    "with torch.no_grad():\n",
    "    mu = 0.\n",
    "    sigma = 0.\n",
    "    for proposal in results:\n",
    "        mu += proposal._mu\n",
    "        sigma += proposal._sigma\n",
    "    mu /= num_runs\n",
    "    sigma /= num_runs\n",
    "\n",
    "averaged_proposal = NormalProposal(mu.detach(), sigma.detach())\n",
    "\n",
    "mean = averaged_proposal._mu.item()\n",
    "sigma = averaged_proposal._sigma.item()\n",
    "true = theta_true.item()\n",
    "x = np.linspace(mean - 3 * sigma, mean + 3 * sigma + 1.5, 5000)\n",
    "plt.axvline(true, linestyle=\"--\", c=\"lightgray\", label=r\"${\\theta^*}$\")\n",
    "plt.plot(x, mlab.normpdf(x, mean, sigma), label=r\"$q({\\theta}|{\\psi})\\ \\gamma = 0$\")\n",
    "plt.xlim([np.min(x), np.max(x)])\n",
    "plt.grid(False)\n",
    "plt.legend()\n",
    "plt.show()"
   ]
  }
 ],
 "metadata": {
  "kernelspec": {
   "display_name": "Python 3",
   "language": "python",
   "name": "python3"
  },
  "language_info": {
   "codemirror_mode": {
    "name": "ipython",
    "version": 3
   },
   "file_extension": ".py",
   "mimetype": "text/x-python",
   "name": "python",
   "nbconvert_exporter": "python",
   "pygments_lexer": "ipython3",
   "version": "3.6.4"
  }
 },
 "nbformat": 4,
 "nbformat_minor": 2
}
