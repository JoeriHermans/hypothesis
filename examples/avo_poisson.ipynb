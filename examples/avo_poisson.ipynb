{
 "cells": [
  {
   "cell_type": "markdown",
   "metadata": {},
   "source": [
    "# Adversarial Variational Optimization: Poisson benchmark\n",
    "\n",
    "This notebook shows the usage of `hypothesis` with `AVO` (Adversarial Variational Optimization) on the Poisson benchmark. In this inference setting, the goal is to obtain the model parameter $\\mathbf{\\theta}*$ that is responsible for generating $\\mathbf{x}_o \\sim p(\\mathbf{x}|\\mathbf{\\theta})$."
   ]
  },
  {
   "cell_type": "code",
   "execution_count": 1,
   "metadata": {},
   "outputs": [],
   "source": [
    "import numpy as np\n",
    "import torch\n",
    "import matplotlib.pyplot as plt\n",
    "import matplotlib.mlab as mlab"
   ]
  },
  {
   "cell_type": "markdown",
   "metadata": {},
   "source": [
    "First, we need to be in the possesion of some $\\mathbf{x}_o$:"
   ]
  },
  {
   "cell_type": "code",
   "execution_count": 2,
   "metadata": {},
   "outputs": [
    {
     "data": {
      "image/png": "[encoded data removed]",
      "text/plain": [
       "<Figure size 432x288 with 1 Axes>"
      ]
     },
     "metadata": {},
     "output_type": "display_data"
    }
   ],
   "source": [
    "from hypothesis.benchmark.poisson import allocate_observations\n",
    "\n",
    "theta_true, x_o = allocate_observations(1.95)\n",
    "\n",
    "# Show some observation, with some initial guess.z\n",
    "plt.hist(x_o.numpy(), bins=50, label=\"Observed\")\n",
    "plt.hist(allocate_observations(3.)[1].numpy(), bins=50, label=\"Initial guess\")\n",
    "plt.legend()\n",
    "plt.show()"
   ]
  },
  {
   "cell_type": "markdown",
   "metadata": {},
   "source": [
    "Clearly, our initial guess is completely wrong."
   ]
  },
  {
   "cell_type": "markdown",
   "metadata": {},
   "source": [
    "## Utility methods"
   ]
  },
  {
   "cell_type": "code",
   "execution_count": 3,
   "metadata": {},
   "outputs": [],
   "source": [
    "def plot_proposal(proposal):\n",
    "    mean = proposal._mu.item()\n",
    "    sigma = proposal._sigma.item()\n",
    "    true = theta_true.item()\n",
    "    x = np.linspace(mean - 15 * sigma, mean + 15 * sigma + 1.5, 5000)\n",
    "    plt.axvline(true, linestyle=\"--\", c=\"lightgray\", label=r\"${\\theta^*}$\")\n",
    "    plt.plot(x, mlab.normpdf(x, mean, sigma), label=r\"$q({\\theta}|{\\psi})\\ \\gamma = 0$\")\n",
    "    plt.xlim([0, np.max(x)])\n",
    "    plt.grid(False)\n",
    "    plt.legend()\n",
    "    plt.show()"
   ]
  },
  {
   "cell_type": "markdown",
   "metadata": {},
   "source": [
    "## AVO\n",
    "\n",
    "### Discriminator"
   ]
  },
  {
   "cell_type": "code",
   "execution_count": 4,
   "metadata": {},
   "outputs": [],
   "source": [
    "def allocate_discriminator():\n",
    "    num_hidden = 50\n",
    "    discriminator = torch.nn.Sequential(\n",
    "        torch.nn.Linear(1, num_hidden),\n",
    "        torch.nn.PReLU(),\n",
    "        torch.nn.Linear(num_hidden, num_hidden),\n",
    "        torch.nn.PReLU(),\n",
    "        torch.nn.Linear(num_hidden, num_hidden),\n",
    "        torch.nn.PReLU(),\n",
    "        torch.nn.Linear(num_hidden, num_hidden),\n",
    "        torch.nn.PReLU(),\n",
    "        torch.nn.Linear(num_hidden, 1),\n",
    "        torch.nn.Sigmoid()\n",
    "    )\n",
    "    \n",
    "    return discriminator"
   ]
  },
  {
   "cell_type": "markdown",
   "metadata": {},
   "source": [
    "### Simulator"
   ]
  },
  {
   "cell_type": "code",
   "execution_count": 5,
   "metadata": {},
   "outputs": [],
   "source": [
    "from hypothesis.benchmark.poisson import PoissonSimulator as Simulator\n",
    "\n",
    "simulator = Simulator()"
   ]
  },
  {
   "cell_type": "markdown",
   "metadata": {},
   "source": [
    "### Proposal"
   ]
  },
  {
   "cell_type": "code",
   "execution_count": 6,
   "metadata": {},
   "outputs": [],
   "source": [
    "from hypothesis.proposal import NormalProposal\n",
    "\n",
    "proposal = NormalProposal()"
   ]
  },
  {
   "cell_type": "markdown",
   "metadata": {},
   "source": [
    "### Inference"
   ]
  },
  {
   "cell_type": "code",
   "execution_count": 7,
   "metadata": {},
   "outputs": [],
   "source": [
    "from hypothesis.inference import AdversarialVariationalOptimization\n",
    "\n",
    "avo = AdversarialVariationalOptimization(simulator, allocate_discriminator(), proposal)"
   ]
  },
  {
   "cell_type": "code",
   "execution_count": 8,
   "metadata": {},
   "outputs": [],
   "source": [
    "proposal = avo.infer(x_o, steps=10000)"
   ]
  },
  {
   "cell_type": "code",
   "execution_count": 9,
   "metadata": {},
   "outputs": [
    {
     "name": "stderr",
     "output_type": "stream",
     "text": [
      "/home/joeri/Anaconda/lib/python3.6/site-packages/ipykernel_launcher.py:7: MatplotlibDeprecationWarning: scipy.stats.norm.pdf\n",
      "  import sys\n"
     ]
    },
    {
     "data": {
      "image/png": "[encoded data removed]",
      "text/plain": [
       "<Figure size 432x288 with 1 Axes>"
      ]
     },
     "metadata": {},
     "output_type": "display_data"
    }
   ],
   "source": [
    "plot_proposal(proposal)"
   ]
  }
 ],
 "metadata": {
  "kernelspec": {
   "display_name": "Python 3",
   "language": "python",
   "name": "python3"
  },
  "language_info": {
   "codemirror_mode": {
    "name": "ipython",
    "version": 3
   },
   "file_extension": ".py",
   "mimetype": "text/x-python",
   "name": "python",
   "nbconvert_exporter": "python",
   "pygments_lexer": "ipython3",
   "version": "3.6.4"
  }
 },
 "nbformat": 4,
 "nbformat_minor": 2
}
