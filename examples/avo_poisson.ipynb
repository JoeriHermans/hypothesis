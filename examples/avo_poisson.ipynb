{
 "cells": [
  {
   "cell_type": "markdown",
   "metadata": {},
   "source": [
    "# Adversarial Variational Optimization: Poisson benchmark\n",
    "\n",
    "This notebook shows the usage of `hypothesis` with `AVO` (Adversarial Variational Optimization) on the Poisson benchmark. In this inference setting, the goal is to obtain the model parameter $\\mathbf{\\theta}*$ that is responsible for generating $\\mathbf{x}_o \\sim p(\\mathbf{x}|\\mathbf{\\theta})$."
   ]
  },
  {
   "cell_type": "code",
   "execution_count": 1,
   "metadata": {},
   "outputs": [],
   "source": [
    "import numpy as np\n",
    "import torch\n",
    "import matplotlib.pyplot as plt\n",
    "import hypothesis"
   ]
  },
  {
   "cell_type": "markdown",
   "metadata": {},
   "source": [
    "First, we need to be in the possesion of some $\\mathbf{x}_o$:"
   ]
  },
  {
   "cell_type": "code",
   "execution_count": 18,
   "metadata": {},
   "outputs": [
    {
     "data": {
      "image/png": "[encoded data removed]",
      "text/plain": [
       "<Figure size 432x288 with 1 Axes>"
      ]
     },
     "metadata": {},
     "output_type": "display_data"
    }
   ],
   "source": [
    "from hypothesis.benchmark.poisson import allocate_observations\n",
    "\n",
    "truth = 1.95\n",
    "observations = allocate_observations(truth)\n",
    "\n",
    "# Show some observation, with some initial guess.\n",
    "plt.hist(observations.numpy(), bins=50, label=\"Observed\", density=True)\n",
    "plt.hist(allocate_observations(3.).numpy(), bins=50, label=\"Initial guess\", density=True)\n",
    "plt.legend()\n",
    "plt.show()"
   ]
  },
  {
   "cell_type": "markdown",
   "metadata": {},
   "source": [
    "Clearly, our initial guess is completely wrong."
   ]
  },
  {
   "cell_type": "markdown",
   "metadata": {},
   "source": [
    "## AVO\n",
    "\n",
    "### Discriminator"
   ]
  },
  {
   "cell_type": "code",
   "execution_count": 3,
   "metadata": {},
   "outputs": [],
   "source": [
    "def allocate_discriminator():\n",
    "    num_hidden = 50\n",
    "    discriminator = torch.nn.Sequential(\n",
    "        torch.nn.Linear(1, num_hidden),\n",
    "        torch.nn.LeakyReLU(),\n",
    "        torch.nn.Linear(num_hidden, num_hidden),\n",
    "        torch.nn.LeakyReLU(),\n",
    "        torch.nn.Linear(num_hidden, num_hidden),\n",
    "        torch.nn.LeakyReLU(),\n",
    "        torch.nn.Linear(num_hidden, num_hidden),\n",
    "        torch.nn.LeakyReLU(),\n",
    "        torch.nn.Linear(num_hidden, 1),\n",
    "        torch.nn.Sigmoid()\n",
    "    )\n",
    "    \n",
    "    return discriminator"
   ]
  },
  {
   "cell_type": "markdown",
   "metadata": {},
   "source": [
    "### Simulator"
   ]
  },
  {
   "cell_type": "code",
   "execution_count": 4,
   "metadata": {},
   "outputs": [],
   "source": [
    "from hypothesis.benchmark.poisson import PoissonSimulator as Simulator\n",
    "\n",
    "simulator = Simulator()"
   ]
  },
  {
   "cell_type": "markdown",
   "metadata": {},
   "source": [
    "### Proposal"
   ]
  },
  {
   "cell_type": "code",
   "execution_count": 5,
   "metadata": {},
   "outputs": [],
   "source": [
    "from hypothesis.proposal import NormalProposal\n",
    "\n",
    "proposal = NormalProposal()"
   ]
  },
  {
   "cell_type": "markdown",
   "metadata": {},
   "source": [
    "### Inference"
   ]
  },
  {
   "cell_type": "code",
   "execution_count": 6,
   "metadata": {},
   "outputs": [],
   "source": [
    "from hypothesis.inference import AdversarialVariationalOptimization\n",
    "\n",
    "avo = AdversarialVariationalOptimization(simulator, allocate_discriminator())"
   ]
  },
  {
   "cell_type": "code",
   "execution_count": 7,
   "metadata": {},
   "outputs": [],
   "source": [
    "proposal = avo.infer(observations, proposal=proposal, steps=100000)"
   ]
  },
  {
   "cell_type": "code",
   "execution_count": 15,
   "metadata": {},
   "outputs": [
    {
     "data": {
      "image/png": "[encoded data removed]",
      "text/plain": [
       "<Figure size 432x288 with 1 Axes>"
      ]
     },
     "metadata": {},
     "output_type": "display_data"
    }
   ],
   "source": [
    "from hypothesis.visualization.avo import plot_proposal\n",
    "\n",
    "plot_proposal(proposal, show_mean=True, truth=truth)"
   ]
  },
  {
   "cell_type": "markdown",
   "metadata": {},
   "source": [
    "## Learning rate scheduling with hooks\n",
    "\n",
    "To improve the procedure, we recommend to apply learning rate scheduling. This can be achieved using `hooks`."
   ]
  },
  {
   "cell_type": "code",
   "execution_count": 19,
   "metadata": {},
   "outputs": [],
   "source": [
    "from torch.optim.lr_scheduler import StepLR\n",
    "\n",
    "stepper_discriminator = None\n",
    "stepper_proposal = None\n",
    "\n",
    "def initialize_learning_rate_scheduler(avo):\n",
    "    global stepper_discriminator\n",
    "    global stepper_proposal\n",
    "    \n",
    "    gamma = .1\n",
    "    step_size = 5000\n",
    "    stepper_discriminator = StepLR(avo.optimizer_discriminator, step_size=step_size, gamma=gamma)\n",
    "    stepper_proposal = StepLR(avo.optimizer_proposal, step_size=step_size, gamma=gamma)\n",
    "    \n",
    "def learning_rate_scheduler_step(avo):\n",
    "    global stepper_discriminator\n",
    "    global stepper_proposal\n",
    "    \n",
    "    stepper_discriminator.step()\n",
    "    stepper_proposal.step()\n",
    "    \n",
    "hypothesis.clear_hooks()\n",
    "hypothesis.register_hook(hypothesis.hooks.pre_inference, initialize_learning_rate_scheduler)\n",
    "hypothesis.register_hook(hypothesis.hooks.post_step, learning_rate_scheduler_step)"
   ]
  },
  {
   "cell_type": "code",
   "execution_count": null,
   "metadata": {},
   "outputs": [],
   "source": [
    "avo = AdversarialVariationalOptimization(simulator, allocate_discriminator())\n",
    "scheduled_proposal = avo.infer(observations, proposal=proposal, steps=100000)"
   ]
  },
  {
   "cell_type": "code",
   "execution_count": null,
   "metadata": {},
   "outputs": [],
   "source": [
    "plot_proposal(proposal, show_mean=True, truth=truth)\n",
    "plot_proposal(scheduled_proposal, show_mean=True, truth=truth)"
   ]
  }
 ],
 "metadata": {
  "kernelspec": {
   "display_name": "Python 3",
   "language": "python",
   "name": "python3"
  },
  "language_info": {
   "codemirror_mode": {
    "name": "ipython",
    "version": 3
   },
   "file_extension": ".py",
   "mimetype": "text/x-python",
   "name": "python",
   "nbconvert_exporter": "python",
   "pygments_lexer": "ipython3",
   "version": "3.6.7"
  }
 },
 "nbformat": 4,
 "nbformat_minor": 2
}
