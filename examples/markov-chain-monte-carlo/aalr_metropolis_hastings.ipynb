{
 "cells": [
  {
   "cell_type": "markdown",
   "metadata": {},
   "source": [
    "# Markov chain Monte Carlo: Amortized Approximate Likelihood Ratios"
   ]
  },
  {
   "cell_type": "code",
   "execution_count": 1,
   "metadata": {},
   "outputs": [],
   "source": [
    "import hypothesis\n",
    "import torch\n",
    "import numpy as np\n",
    "import matplotlib.pyplot as plt"
   ]
  },
  {
   "cell_type": "markdown",
   "metadata": {},
   "source": [
    "## Forward model"
   ]
  },
  {
   "cell_type": "code",
   "execution_count": 2,
   "metadata": {},
   "outputs": [],
   "source": [
    "from hypothesis.simulation import Simulator\n",
    "\n",
    "class NormalSimulator(Simulator):\n",
    "    \n",
    "    def __init__(self):\n",
    "        super(NormalSimulator, self).__init__()\n",
    "        \n",
    "    def forward(self, inputs):\n",
    "        return torch.randn(inputs.size(0), 1) + inputs\n",
    "\n",
    "simulator = NormalSimulator()"
   ]
  },
  {
   "cell_type": "markdown",
   "metadata": {},
   "source": [
    "## Prior"
   ]
  },
  {
   "cell_type": "code",
   "execution_count": 3,
   "metadata": {},
   "outputs": [],
   "source": [
    "from torch.distributions.uniform import Uniform\n",
    "\n",
    "prior = Uniform(-30, 30)"
   ]
  },
  {
   "cell_type": "markdown",
   "metadata": {},
   "source": [
    "## Ratio estimator architecture"
   ]
  },
  {
   "cell_type": "code",
   "execution_count": 4,
   "metadata": {},
   "outputs": [],
   "source": [
    "from hypothesis.nn import BaseConditionalRatioEstimator\n",
    "\n",
    "class RatioEstimator(BaseConditionalRatioEstimator):\n",
    "    \n",
    "    def __init__(self):\n",
    "        super(RatioEstimator, self).__init__()\n",
    "        self.network = torch.nn.Sequential(\n",
    "            torch.nn.Linear(2, 64),\n",
    "            torch.nn.ELU(),\n",
    "            torch.nn.Linear(64, 64),\n",
    "            torch.nn.ELU(),\n",
    "            torch.nn.Linear(64, 64),\n",
    "            torch.nn.ELU(),\n",
    "            torch.nn.Linear(64, 1))\n",
    "        \n",
    "    def forward(self, inputs, outputs):\n",
    "        log_ratio = self.log_ratio(inputs, outputs)\n",
    "        \n",
    "        return log_ratio.sigmoid(), log_ratio\n",
    "        \n",
    "    def log_ratio(self, inputs, outputs):\n",
    "        inputs = inputs.view(-1, 1)\n",
    "        outputs = outputs.view(-1, 1)\n",
    "        x = torch.cat([inputs, outputs], dim=1)\n",
    "    \n",
    "        return self.network(x)"
   ]
  },
  {
   "cell_type": "markdown",
   "metadata": {},
   "source": [
    "## Training the ratio estimator"
   ]
  },
  {
   "cell_type": "code",
   "execution_count": null,
   "metadata": {},
   "outputs": [],
   "source": [
    "from hypothesis.util.data import SimulatorDataset\n",
    "from hypothesis.nn.conditional_ratio_estimator import ConditionalRatioEstimatorCriterion\n",
    "\n",
    "ratio_estimator = RatioEstimator()\n",
    "dataset = SimulatorDataset(simulator, prior)\n",
    "batch_size = 128000\n",
    "criterion = ConditionalRatioEstimatorCriterion(ratio_estimator, batch_size)\n",
    "optimizer = torch.optim.Adam(ratio_estimator.parameters())\n",
    "epochs = 25\n",
    "\n",
    "losses = []\n",
    "for epoch in range(epochs):\n",
    "    data_loader = torch.utils.data.DataLoader(dataset, num_workers=2, batch_size=batch_size, drop_last=True)\n",
    "    num_batches = len(data_loader)\n",
    "    data_loader = iter(data_loader)\n",
    "    for batch_index in range(num_batches):\n",
    "        optimizer.zero_grad()\n",
    "        inputs, outputs = next(data_loader)\n",
    "        loss = criterion(inputs, outputs)\n",
    "        loss.backward()\n",
    "        optimizer.step()\n",
    "    losses.append(loss.cpu().item())\n",
    "    \n",
    "losses = np.array(losses)\n",
    "plt.plot(np.arange(epochs), np.log(losses), lw=2, color=\"black\")\n",
    "plt.show()"
   ]
  },
  {
   "cell_type": "markdown",
   "metadata": {},
   "source": [
    "In some cases the criterion based on the logits might be more numerically preferable."
   ]
  },
  {
   "cell_type": "code",
   "execution_count": 5,
   "metadata": {},
   "outputs": [
    {
     "ename": "NameError",
     "evalue": "name 'SimulatorDataset' is not defined",
     "output_type": "error",
     "traceback": [
      "\u001b[0;31m---------------------------------------------------------------------------\u001b[0m",
      "\u001b[0;31mNameError\u001b[0m                                 Traceback (most recent call last)",
      "\u001b[0;32m<ipython-input-5-f14c36635720>\u001b[0m in \u001b[0;36m<module>\u001b[0;34m\u001b[0m\n\u001b[1;32m      2\u001b[0m \u001b[0;34m\u001b[0m\u001b[0m\n\u001b[1;32m      3\u001b[0m \u001b[0mratio_estimator\u001b[0m \u001b[0;34m=\u001b[0m \u001b[0mRatioEstimator\u001b[0m\u001b[0;34m(\u001b[0m\u001b[0;34m)\u001b[0m\u001b[0;34m\u001b[0m\u001b[0;34m\u001b[0m\u001b[0m\n\u001b[0;32m----> 4\u001b[0;31m \u001b[0mdataset\u001b[0m \u001b[0;34m=\u001b[0m \u001b[0mSimulatorDataset\u001b[0m\u001b[0;34m(\u001b[0m\u001b[0msimulator\u001b[0m\u001b[0;34m,\u001b[0m \u001b[0mprior\u001b[0m\u001b[0;34m)\u001b[0m\u001b[0;34m\u001b[0m\u001b[0;34m\u001b[0m\u001b[0m\n\u001b[0m\u001b[1;32m      5\u001b[0m \u001b[0mbatch_size\u001b[0m \u001b[0;34m=\u001b[0m \u001b[0;36m128000\u001b[0m\u001b[0;34m\u001b[0m\u001b[0;34m\u001b[0m\u001b[0m\n\u001b[1;32m      6\u001b[0m \u001b[0mcriterion\u001b[0m \u001b[0;34m=\u001b[0m \u001b[0mConditionalRatioEstimatorCriterion\u001b[0m\u001b[0;34m(\u001b[0m\u001b[0mratio_estimator\u001b[0m\u001b[0;34m,\u001b[0m \u001b[0mbatch_size\u001b[0m\u001b[0;34m)\u001b[0m\u001b[0;34m\u001b[0m\u001b[0;34m\u001b[0m\u001b[0m\n",
      "\u001b[0;31mNameError\u001b[0m: name 'SimulatorDataset' is not defined"
     ]
    }
   ],
   "source": [
    "from hypothesis.nn.conditional_ratio_estimator import ConditionalRatioEstimatorLogitsCriterion\n",
    "\n",
    "ratio_estimator = RatioEstimator()\n",
    "dataset = SimulatorDataset(simulator, prior)\n",
    "batch_size = 128000\n",
    "criterion = ConditionalRatioEstimatorLogitsCriterion(ratio_estimator, batch_size)\n",
    "optimizer = torch.optim.Adam(ratio_estimator.parameters())\n",
    "epochs = 25\n",
    "\n",
    "losses = []\n",
    "for epoch in range(epochs):\n",
    "    data_loader = torch.utils.data.DataLoader(dataset, num_workers=2, batch_size=batch_size, drop_last=True)\n",
    "    num_batches = len(data_loader)\n",
    "    data_loader = iter(data_loader)\n",
    "    for batch_index in range(num_batches):\n",
    "        optimizer.zero_grad()\n",
    "        inputs, outputs = next(data_loader)\n",
    "        loss = criterion(inputs, outputs)\n",
    "        loss.backward()\n",
    "        optimizer.step()\n",
    "    losses.append(loss.cpu().item())\n",
    "    \n",
    "losses = np.array(losses)\n",
    "plt.plot(np.arange(epochs), np.log(losses), lw=2, color=\"black\")\n",
    "plt.show()"
   ]
  },
  {
   "cell_type": "markdown",
   "metadata": {},
   "source": [
    "## Validating the ratio estimator"
   ]
  },
  {
   "cell_type": "code",
   "execution_count": null,
   "metadata": {},
   "outputs": [],
   "source": []
  },
  {
   "cell_type": "markdown",
   "metadata": {},
   "source": [
    "## Posterior inference using MCMC"
   ]
  },
  {
   "cell_type": "code",
   "execution_count": null,
   "metadata": {},
   "outputs": [],
   "source": []
  }
 ],
 "metadata": {
  "kernelspec": {
   "display_name": "Python 3",
   "language": "python",
   "name": "python3"
  },
  "language_info": {
   "codemirror_mode": {
    "name": "ipython",
    "version": 3
   },
   "file_extension": ".py",
   "mimetype": "text/x-python",
   "name": "python",
   "nbconvert_exporter": "python",
   "pygments_lexer": "ipython3",
   "version": "3.7.3"
  }
 },
 "nbformat": 4,
 "nbformat_minor": 4
}
