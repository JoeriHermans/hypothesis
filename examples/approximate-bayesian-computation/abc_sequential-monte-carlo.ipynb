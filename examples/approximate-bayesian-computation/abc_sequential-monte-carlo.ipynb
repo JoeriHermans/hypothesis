{
 "cells": [
  {
   "cell_type": "markdown",
   "metadata": {},
   "source": [
    "# Approximate Bayesian Compatation Sequential Monte Carlo\n",
    "(or ABC Population Monte Carlo)"
   ]
  },
  {
   "cell_type": "code",
   "execution_count": 1,
   "metadata": {},
   "outputs": [],
   "source": [
    "import hypothesis\n",
    "import matplotlib.pyplot as plt\n",
    "import torch"
   ]
  },
  {
   "cell_type": "markdown",
   "metadata": {},
   "source": [
    "As in every Bayesian inference setting we have to define a prior $p(\\theta)$, which is in our case $\\mathcal{U}(-10, 10)$."
   ]
  },
  {
   "cell_type": "code",
   "execution_count": 48,
   "metadata": {},
   "outputs": [],
   "source": [
    "from torch.distributions.uniform import Uniform\n",
    "\n",
    "lower = torch.tensor([-10]).float()\n",
    "upper = torch.tensor([10]).float()\n",
    "prior = Uniform(lower, upper)"
   ]
  },
  {
   "cell_type": "markdown",
   "metadata": {},
   "source": [
    "The simulation-based or likelihood-free setting also requires the definition of a forward model."
   ]
  },
  {
   "cell_type": "code",
   "execution_count": 49,
   "metadata": {},
   "outputs": [],
   "source": [
    "from hypothesis.simulation import Simulator\n",
    "\n",
    "class NormalSimulator(Simulator):\n",
    "    \n",
    "    def __init__(self):\n",
    "        super(NormalSimulator, self).__init__()\n",
    "        \n",
    "    def forward(self, inputs):\n",
    "        inputs = inputs.view(-1, 1)\n",
    "\n",
    "        return torch.randn(inputs.size(0), 1) + inputs\n",
    "\n",
    "simulator = NormalSimulator()"
   ]
  },
  {
   "cell_type": "markdown",
   "metadata": {},
   "source": [
    "Let's check how the joint $p(\\theta,x)$ looks like."
   ]
  },
  {
   "cell_type": "code",
   "execution_count": 50,
   "metadata": {},
   "outputs": [
    {
     "data": {
      "image/png": "[encoded data removed]",
      "text/plain": [
       "<Figure size 432x288 with 1 Axes>"
      ]
     },
     "metadata": {
      "needs_background": "light"
     },
     "output_type": "display_data"
    }
   ],
   "source": [
    "from hypothesis.visualization.util import make_square\n",
    "\n",
    "n = torch.Size([100000])\n",
    "inputs = prior.sample(n)\n",
    "outputs = simulator(inputs)\n",
    "\n",
    "plt.hist(outputs.numpy(), bins=50, density=True, color=\"black\", histtype=\"step\", lw=2)\n",
    "plt.xlabel(r\"$\\theta$\")\n",
    "plt.ylabel(\"Posterior mass function\")\n",
    "make_square(plt.gca())\n",
    "plt.show()"
   ]
  },
  {
   "cell_type": "markdown",
   "metadata": {},
   "source": [
    "Every Bayesian setting requires an observation $x$ (or a set of observations) to compute the posterior of:"
   ]
  },
  {
   "cell_type": "code",
   "execution_count": 51,
   "metadata": {},
   "outputs": [
    {
     "name": "stdout",
     "output_type": "stream",
     "text": [
      "Observation: 0.25136929750442505\n"
     ]
    }
   ],
   "source": [
    "truth = prior.sample()\n",
    "observation = simulator(truth)\n",
    "\n",
    "print(\"Observation:\", observation.item())"
   ]
  },
  {
   "cell_type": "code",
   "execution_count": 52,
   "metadata": {},
   "outputs": [],
   "source": [
    "from hypothesis.engine import Procedure\n",
    "\n",
    "import numpy as np\n",
    "\n",
    "class ApproximateBayesianComputationSequentialMonteCarlo(Procedure):\n",
    "    r\"\"\"\"\"\"\n",
    "\n",
    "    def __init__(self, simulator, prior, summary, acceptor, particles=1000):\n",
    "        super(ApproximateBayesianComputationSequentialMonteCarlo, self).__init__()\n",
    "        # Main ABC SMC properties.\n",
    "        self.acceptor = acceptor\n",
    "        self.prior = prior\n",
    "        self.simulator = simulator\n",
    "        self.summary = summary\n",
    "        self.num_particles = particles\n",
    "        # Sampler state properties.\n",
    "        self.particles = []\n",
    "        self.weights = np.ones(self.num_particles) / self.num_particles\n",
    "        self.covariance = None\n",
    "        self._reset()\n",
    "\n",
    "    def _register_events(self):\n",
    "        # TODO Implement.\n",
    "        pass\n",
    "\n",
    "    def _reset(self):\n",
    "        self.covariance = None\n",
    "        self.particles = []\n",
    "        self.weights = []\n",
    "\n",
    "    def _sample_from_prior(self, summary_observation):\n",
    "        for particle_index in range(self.num_particles):\n",
    "            sample = None\n",
    "            while sample is None:\n",
    "                prior_sample = self.prior.sample()\n",
    "                x = self.simulator(prior_sample)\n",
    "                s = self.summary(x)\n",
    "                if self.acceptor(summary_observation, s):\n",
    "                    sample = prior_sample.unsqueeze(0)\n",
    "                    self.particles.append(sample)\n",
    "        self.particles = torch.cat(self.particles, dim=0)\n",
    "        self.covariance = 2 * torch.from_numpy(np.cov(self.particles.numpy().T)).float()\n",
    "\n",
    "    def _sample_particle(self):\n",
    "        indices = np.arange(self.num_particles)\n",
    "        sampled_index = np.random.choice(self.num_particles, 1, p=self.weights)\n",
    "        \n",
    "        return self.particles[sampled_index]\n",
    "        \n",
    "    def _resample_particles(self, summary_observation):\n",
    "        new_particles = self.particles.clone()\n",
    "        new_particles.zero_()\n",
    "        for particle_index in range(self.num_particles):\n",
    "            new_particle = None\n",
    "            while new_particle is None:\n",
    "                proposal = self._sample_particles()\n",
    "                new_particles[particle_index, :] = proposal\n",
    "                # TODO Add pertubation.\n",
    "                x = self.simulator(proposal)\n",
    "                s = self.summary(x)\n",
    "                if self.acceptor(s, summary_observation):\n",
    "                    new_particle = proposal\n",
    "            new_particles[particle_index, :] = proposal\n",
    "        self.particles = new_particles\n",
    "        # TODO Compute weights.\n",
    "        \n",
    "    def sample(self, observation, num_samples=1):\n",
    "        samples = []\n",
    "\n",
    "        # Summarize the observation.\n",
    "        summary_observation = self.summary(observation)\n",
    "        # Initialize the particles and set initial weights.\n",
    "        self._sample_from_prior(summary_observation)\n",
    "        print(self.covariance)\n",
    "        samples.extend(self.particles)\n",
    "        num_samples -= self.num_particles\n",
    "        while num_samples > 0:\n",
    "            self._resample_particles(summary_observation)\n",
    "            num_samples -= self.num_particles\n",
    "        samples = torch.cat(samples, dim=0)\n",
    "\n",
    "        return samples\n"
   ]
  },
  {
   "cell_type": "code",
   "execution_count": 53,
   "metadata": {},
   "outputs": [
    {
     "name": "stdout",
     "output_type": "stream",
     "text": [
      "tensor(2.6129)\n"
     ]
    },
    {
     "data": {
      "image/png": "[encoded data removed]",
      "text/plain": [
       "<Figure size 432x288 with 1 Axes>"
      ]
     },
     "metadata": {
      "needs_background": "light"
     },
     "output_type": "display_data"
    },
    {
     "name": "stdout",
     "output_type": "stream",
     "text": [
      "CPU times: user 640 ms, sys: 110 ms, total: 750 ms\n",
      "Wall time: 530 ms\n"
     ]
    }
   ],
   "source": [
    "%%time\n",
    "\n",
    "#from hypothesis.inference.abc_smc import ApproximateBayesianComputationSequentialMonteCarlo as ABCSMC\n",
    "\n",
    "def acceptor(a, b, epsilon=1):\n",
    "    return (a - b).abs().item() < epsilon\n",
    "\n",
    "def plot_posterior(posterior_samples):\n",
    "    plt.title(\"Approximate posterior\")\n",
    "    plt.hist(posterior_samples.numpy(), bins=50, color=\"black\", histtype=\"step\", density=True, lw=2)\n",
    "    plt.xlabel(r\"$\\theta$\")\n",
    "    plt.ylabel(\"Posterior mass function\")\n",
    "    plt.axvline(truth, c=\"C0\", lw=2)\n",
    "    make_square(plt.gca())\n",
    "    plt.show()\n",
    "\n",
    "# Use the identity function as a summary statistic.\n",
    "def identity(x):\n",
    "    return x\n",
    "    \n",
    "# Allocate the inference procedure.\n",
    "abc = ApproximateBayesianComputationSequentialMonteCarlo(simulator=simulator,\n",
    "    prior=prior,\n",
    "    summary=identity,\n",
    "    acceptor=acceptor)\n",
    "\n",
    "# Sample the approximate posterior. We don't want gradients here (but you can).\n",
    "with torch.no_grad():\n",
    "    posterior_samples = abc.sample(observation, num_samples=10000)\n",
    "    \n",
    "# Plot the approximate posterior.\n",
    "plot_posterior(posterior_samples)"
   ]
  }
 ],
 "metadata": {
  "kernelspec": {
   "display_name": "Python 3",
   "language": "python",
   "name": "python3"
  },
  "language_info": {
   "codemirror_mode": {
    "name": "ipython",
    "version": 3
   },
   "file_extension": ".py",
   "mimetype": "text/x-python",
   "name": "python",
   "nbconvert_exporter": "python",
   "pygments_lexer": "ipython3",
   "version": "3.7.4"
  }
 },
 "nbformat": 4,
 "nbformat_minor": 4
}
