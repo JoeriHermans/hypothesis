{
 "cells": [
  {
   "cell_type": "markdown",
   "metadata": {},
   "source": [
    "# Approximate Bayesian Compatation Sequential Monte Carlo\n",
    "(or ABC Population Monte Carlo)"
   ]
  },
  {
   "cell_type": "code",
   "execution_count": 1,
   "metadata": {},
   "outputs": [],
   "source": [
    "import hypothesis\n",
    "import matplotlib.pyplot as plt\n",
    "import torch"
   ]
  },
  {
   "cell_type": "markdown",
   "metadata": {},
   "source": [
    "As in every Bayesian inference setting we have to define a prior $p(\\theta)$, which is in our case $\\mathcal{U}(-10, 10)$."
   ]
  },
  {
   "cell_type": "code",
   "execution_count": 2,
   "metadata": {},
   "outputs": [],
   "source": [
    "from torch.distributions.uniform import Uniform\n",
    "\n",
    "lower = torch.tensor([-10]).float()\n",
    "upper = torch.tensor([10]).float()\n",
    "prior = Uniform(lower, upper)"
   ]
  },
  {
   "cell_type": "markdown",
   "metadata": {},
   "source": [
    "The simulation-based or likelihood-free setting also requires the definition of a forward model."
   ]
  },
  {
   "cell_type": "code",
   "execution_count": 3,
   "metadata": {},
   "outputs": [],
   "source": [
    "from hypothesis.simulation import Simulator\n",
    "\n",
    "class NormalSimulator(Simulator):\n",
    "    \n",
    "    def __init__(self):\n",
    "        super(NormalSimulator, self).__init__()\n",
    "        \n",
    "    def forward(self, inputs):\n",
    "        inputs = inputs.view(-1, 1)\n",
    "\n",
    "        return torch.randn(inputs.size(0), 1) + inputs\n",
    "\n",
    "simulator = NormalSimulator()"
   ]
  },
  {
   "cell_type": "markdown",
   "metadata": {},
   "source": [
    "Let's check how the joint $p(\\theta,x)$ looks like."
   ]
  },
  {
   "cell_type": "code",
   "execution_count": 4,
   "metadata": {},
   "outputs": [
    {
     "data": {
      "image/png": "[encoded data removed]",
      "text/plain": [
       "<Figure size 432x288 with 1 Axes>"
      ]
     },
     "metadata": {
      "needs_background": "light"
     },
     "output_type": "display_data"
    }
   ],
   "source": [
    "from hypothesis.visualization.util import make_square\n",
    "\n",
    "n = torch.Size([100000])\n",
    "inputs = prior.sample(n)\n",
    "outputs = simulator(inputs)\n",
    "\n",
    "plt.hist(outputs.numpy(), bins=50, density=True, color=\"black\", histtype=\"step\", lw=2)\n",
    "plt.xlabel(r\"$\\theta$\")\n",
    "plt.ylabel(\"Posterior mass function\")\n",
    "make_square(plt.gca())\n",
    "plt.show()"
   ]
  },
  {
   "cell_type": "markdown",
   "metadata": {},
   "source": [
    "Every Bayesian setting requires an observation $x$ (or a set of observations) to compute the posterior of:"
   ]
  },
  {
   "cell_type": "code",
   "execution_count": 5,
   "metadata": {},
   "outputs": [
    {
     "name": "stdout",
     "output_type": "stream",
     "text": [
      "Observation: 3.7167582511901855\n"
     ]
    }
   ],
   "source": [
    "truth = prior.sample()\n",
    "observation = simulator(truth)\n",
    "\n",
    "print(\"Observation:\", observation.item())"
   ]
  },
  {
   "cell_type": "code",
   "execution_count": 6,
   "metadata": {},
   "outputs": [
    {
     "data": {
      "image/png": "[encoded data removed]",
      "text/plain": [
       "<Figure size 432x288 with 1 Axes>"
      ]
     },
     "metadata": {
      "needs_background": "light"
     },
     "output_type": "display_data"
    },
    {
     "name": "stdout",
     "output_type": "stream",
     "text": [
      "CPU times: user 6.2 s, sys: 158 ms, total: 6.35 s\n",
      "Wall time: 6.13 s\n"
     ]
    }
   ],
   "source": [
    "%%time\n",
    "\n",
    "from hypothesis.inference.abc_smc import ApproximateBayesianComputationSequentialMonteCarlo as ABCSMC\n",
    "\n",
    "def acceptor(a, b, epsilon=1):\n",
    "    return (a - b).abs().item() < epsilon\n",
    "\n",
    "def plot_posterior(posterior_samples):\n",
    "    plt.title(\"Approximate posterior\")\n",
    "    plt.hist(posterior_samples.numpy(), bins=50, color=\"black\", histtype=\"step\", density=True, lw=2)\n",
    "    plt.xlabel(r\"$\\theta$\")\n",
    "    plt.ylabel(\"Posterior mass function\")\n",
    "    plt.axvline(truth, c=\"C0\", lw=2)\n",
    "    make_square(plt.gca())\n",
    "    plt.show()\n",
    "\n",
    "# Use the identity function as a summary statistic.\n",
    "def identity(x):\n",
    "    return x\n",
    "    \n",
    "# Allocate the inference procedure.\n",
    "abc = ABCSMC(simulator=simulator,\n",
    "    prior=prior,\n",
    "    summary=identity,\n",
    "    acceptor=acceptor)\n",
    "\n",
    "# Sample the approximate posterior. We don't want gradients here (but you can).\n",
    "with torch.no_grad():\n",
    "    posterior_samples = abc.sample(observation, num_samples=10000)\n",
    "    \n",
    "# Plot the approximate posterior.\n",
    "plot_posterior(posterior_samples)"
   ]
  },
  {
   "cell_type": "markdown",
   "metadata": {},
   "source": [
    "Looking at the wallclock time, this is orders of magnitude faster compared to classical ABC because the population of particles focusses on areas of the parameter space which previously yielded accepted samples."
   ]
  }
 ],
 "metadata": {
  "kernelspec": {
   "display_name": "Python 3",
   "language": "python",
   "name": "python3"
  },
  "language_info": {
   "codemirror_mode": {
    "name": "ipython",
    "version": 3
   },
   "file_extension": ".py",
   "mimetype": "text/x-python",
   "name": "python",
   "nbconvert_exporter": "python",
   "pygments_lexer": "ipython3",
   "version": "3.7.4"
  }
 },
 "nbformat": 4,
 "nbformat_minor": 4
}
