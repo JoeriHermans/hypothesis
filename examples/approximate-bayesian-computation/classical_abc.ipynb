{
 "cells": [
  {
   "cell_type": "markdown",
   "metadata": {},
   "source": [
    "# Classical Approximate Bayesian Compuation"
   ]
  },
  {
   "cell_type": "code",
   "execution_count": 1,
   "metadata": {},
   "outputs": [],
   "source": [
    "import hypothesis\n",
    "import matplotlib.pyplot as plt\n",
    "import torch"
   ]
  },
  {
   "cell_type": "markdown",
   "metadata": {},
   "source": [
    "As in every Bayesian inference setting we have to define a prior $p(\\theta)$, which is in our case $\\mathcal{U}(-10, 10)$."
   ]
  },
  {
   "cell_type": "code",
   "execution_count": 2,
   "metadata": {},
   "outputs": [],
   "source": [
    "from torch.distributions.uniform import Uniform\n",
    "\n",
    "prior = Uniform(-10, 10)"
   ]
  },
  {
   "cell_type": "markdown",
   "metadata": {},
   "source": [
    "The simulation-based or likelihood-free setting also requires the definition of a forward model."
   ]
  },
  {
   "cell_type": "code",
   "execution_count": 3,
   "metadata": {},
   "outputs": [],
   "source": [
    "from hypothesis.simulation import Simulator\n",
    "\n",
    "class NormalSimulator(Simulator):\n",
    "    \n",
    "    def __init__(self):\n",
    "        super(NormalSimulator, self).__init__()\n",
    "        \n",
    "    def forward(self, inputs):\n",
    "        inputs = inputs.view(-1, 1)\n",
    "\n",
    "        return torch.randn(inputs.size(0), 1) + inputs\n",
    "\n",
    "simulator = NormalSimulator()"
   ]
  },
  {
   "cell_type": "markdown",
   "metadata": {},
   "source": [
    "Let's check how the joint $p(\\theta,x)$ looks like."
   ]
  },
  {
   "cell_type": "code",
   "execution_count": 4,
   "metadata": {},
   "outputs": [
    {
     "data": {
      "image/png": "[encoded data removed]",
      "text/plain": [
       "<Figure size 432x288 with 1 Axes>"
      ]
     },
     "metadata": {
      "needs_background": "light"
     },
     "output_type": "display_data"
    }
   ],
   "source": [
    "from hypothesis.visualization.util import make_square\n",
    "\n",
    "n = torch.Size([100000])\n",
    "inputs = prior.sample(n)\n",
    "outputs = simulator(inputs)\n",
    "\n",
    "plt.hist(outputs.numpy(), bins=50, density=True, color=\"black\", histtype=\"step\", lw=2)\n",
    "plt.xlabel(r\"$\\theta$\")\n",
    "plt.ylabel(\"Posterior mass function\")\n",
    "make_square(plt.gca())\n",
    "plt.show()"
   ]
  },
  {
   "cell_type": "markdown",
   "metadata": {},
   "source": [
    "Every Bayesian setting requires an observation $x$ (or a set of observations) to compute the posterior of:"
   ]
  },
  {
   "cell_type": "code",
   "execution_count": 5,
   "metadata": {},
   "outputs": [
    {
     "name": "stdout",
     "output_type": "stream",
     "text": [
      "Observation: 5.455133438110352\n"
     ]
    }
   ],
   "source": [
    "truth = prior.sample()\n",
    "observation = simulator(truth)\n",
    "\n",
    "print(\"Observation:\", observation.item())"
   ]
  },
  {
   "cell_type": "markdown",
   "metadata": {},
   "source": [
    "And finally the posterior sampling procedure itself. The `acceptor` method takes two summary statistics (the observation and the sample being tested), and determines whether or not to accept the sample that has been used to generate `b`."
   ]
  },
  {
   "cell_type": "code",
   "execution_count": 6,
   "metadata": {},
   "outputs": [
    {
     "data": {
      "image/png": "[encoded data removed]",
      "text/plain": [
       "<Figure size 432x288 with 1 Axes>"
      ]
     },
     "metadata": {
      "needs_background": "light"
     },
     "output_type": "display_data"
    },
    {
     "name": "stdout",
     "output_type": "stream",
     "text": [
      "CPU times: user 4.67 s, sys: 136 ms, total: 4.81 s\n",
      "Wall time: 4.58 s\n"
     ]
    }
   ],
   "source": [
    "%%time\n",
    "\n",
    "from hypothesis.inference.abc import ApproximateBayesianComputation as ABC\n",
    "\n",
    "def acceptor(a, b, epsilon=1):\n",
    "    return (a - b).abs().item() < epsilon\n",
    "\n",
    "def plot_posterior(posterior_samples):\n",
    "    plt.title(\"Approximate posterior\")\n",
    "    plt.hist(posterior_samples.numpy(), bins=50, color=\"black\", histtype=\"step\", density=True, lw=2)\n",
    "    plt.xlabel(r\"$\\theta$\")\n",
    "    plt.ylabel(\"Posterior mass function\")\n",
    "    plt.axvline(truth, c=\"C0\", lw=2)\n",
    "    make_square(plt.gca())\n",
    "    plt.show()\n",
    "\n",
    "# Use the identity function as a summary statistic.\n",
    "def identity(x):\n",
    "    return x\n",
    "    \n",
    "# Allocate the inference procedure.\n",
    "abc = ABC(simulator=simulator,\n",
    "    prior=prior,\n",
    "    summary=identity,\n",
    "    acceptor=acceptor)\n",
    "\n",
    "# Sample the approximate posterior. We don't want gradients here (but you can).\n",
    "with torch.no_grad():\n",
    "    posterior_samples = abc.sample(observation, num_samples=10000)\n",
    "    \n",
    "# Plot the approximate posterior.\n",
    "plot_posterior(posterior_samples)"
   ]
  },
  {
   "cell_type": "markdown",
   "metadata": {},
   "source": [
    "Let's check what the effect of a smaller `epsilon` value is in the acceptor method. This might take a bit longer."
   ]
  },
  {
   "cell_type": "code",
   "execution_count": 7,
   "metadata": {},
   "outputs": [
    {
     "data": {
      "image/png": "[encoded data removed]",
      "text/plain": [
       "<Figure size 432x288 with 1 Axes>"
      ]
     },
     "metadata": {
      "needs_background": "light"
     },
     "output_type": "display_data"
    },
    {
     "name": "stdout",
     "output_type": "stream",
     "text": [
      "CPU times: user 1min 19s, sys: 160 ms, total: 1min 20s\n",
      "Wall time: 1min 19s\n"
     ]
    }
   ],
   "source": [
    "%%time\n",
    "\n",
    "def acceptor(a, b, epsilon=0.05):\n",
    "    return (a - b).abs().item() < epsilon\n",
    "\n",
    "# Allocate the inference procedure with the new acceptor function.\n",
    "abc = ABC(simulator=simulator,\n",
    "    prior=prior,\n",
    "    summary=identity, \n",
    "    acceptor=acceptor)\n",
    "\n",
    "# Sample the approximate posterior. We don't want gradients here (but you can).\n",
    "with torch.no_grad():\n",
    "    posterior_samples = abc.sample(observation, num_samples=10000)\n",
    "    \n",
    "# Plot the approximate posterior.\n",
    "plot_posterior(posterior_samples)"
   ]
  },
  {
   "cell_type": "markdown",
   "metadata": {},
   "source": [
    "The `ABC` procedure typically uses a single thread to sample from the posterior. However, the sampler can easily be parallelized."
   ]
  },
  {
   "cell_type": "code",
   "execution_count": 8,
   "metadata": {},
   "outputs": [
    {
     "data": {
      "image/png": "[encoded data removed]",
      "text/plain": [
       "<Figure size 432x288 with 1 Axes>"
      ]
     },
     "metadata": {
      "needs_background": "light"
     },
     "output_type": "display_data"
    },
    {
     "name": "stdout",
     "output_type": "stream",
     "text": [
      "CPU times: user 558 ms, sys: 673 ms, total: 1.23 s\n",
      "Wall time: 23.8 s\n"
     ]
    }
   ],
   "source": [
    "%%time\n",
    "\n",
    "from hypothesis.inference.abc import ParallelApproximateBayesianComputation as ParallelABC\n",
    "\n",
    "# Allocate the parallel ABC sampler.\n",
    "parallel_abc_sampler = ParallelABC(abc, workers=8)\n",
    "\n",
    "# Sample the approximate posterior. We don't want gradients here (but you can).\n",
    "with torch.no_grad():\n",
    "    posterior_samples = parallel_abc_sampler.sample(observation, num_samples=10000)\n",
    "    \n",
    "# Plot the approximate posterior.\n",
    "plot_posterior(posterior_samples)"
   ]
  },
  {
   "cell_type": "markdown",
   "metadata": {},
   "source": [
    "Done!"
   ]
  }
 ],
 "metadata": {
  "kernelspec": {
   "display_name": "Python 3",
   "language": "python",
   "name": "python3"
  },
  "language_info": {
   "codemirror_mode": {
    "name": "ipython",
    "version": 3
   },
   "file_extension": ".py",
   "mimetype": "text/x-python",
   "name": "python",
   "nbconvert_exporter": "python",
   "pygments_lexer": "ipython3",
   "version": "3.7.4"
  }
 },
 "nbformat": 4,
 "nbformat_minor": 4
}
